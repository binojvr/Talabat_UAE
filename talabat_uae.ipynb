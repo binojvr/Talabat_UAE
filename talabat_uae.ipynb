{
 "cells": [
  {
   "cell_type": "code",
   "execution_count": 2,
   "id": "bd968f75",
   "metadata": {},
   "outputs": [],
   "source": [
    "import pandas as pd\n",
    "from bs4 import BeautifulSoup\n",
    "import requests\n",
    "from tqdm import tqdm\n",
    "from datetime import date"
   ]
  },
  {
   "cell_type": "code",
   "execution_count": 3,
   "id": "9488d086",
   "metadata": {},
   "outputs": [],
   "source": [
    "pd.set_option('display.max_columns', None)"
   ]
  },
  {
   "cell_type": "code",
   "execution_count": 9,
   "id": "8f936c9a",
   "metadata": {},
   "outputs": [],
   "source": [
    "r = requests.get('https://www.talabat.com/uae/sitemap')\n",
    "soup = BeautifulSoup(r.content, 'html.parser')\n",
    "c = soup.find_all('div', {'class':'col-lg-4 col-md-4 col-4'})\n"
   ]
  },
  {
   "cell_type": "code",
   "execution_count": 12,
   "id": "dbafd6a8",
   "metadata": {},
   "outputs": [
    {
     "data": {
      "text/html": [
       "<div>\n",
       "<style scoped>\n",
       "    .dataframe tbody tr th:only-of-type {\n",
       "        vertical-align: middle;\n",
       "    }\n",
       "\n",
       "    .dataframe tbody tr th {\n",
       "        vertical-align: top;\n",
       "    }\n",
       "\n",
       "    .dataframe thead th {\n",
       "        text-align: right;\n",
       "    }\n",
       "</style>\n",
       "<table border=\"1\" class=\"dataframe\">\n",
       "  <thead>\n",
       "    <tr style=\"text-align: right;\">\n",
       "      <th></th>\n",
       "      <th>link</th>\n",
       "      <th>name</th>\n",
       "    </tr>\n",
       "  </thead>\n",
       "  <tbody>\n",
       "    <tr>\n",
       "      <th>0</th>\n",
       "      <td>/uae/restaurants/6485/abu-dhabi-hills</td>\n",
       "      <td>Abu Dhabi Hills</td>\n",
       "    </tr>\n",
       "    <tr>\n",
       "      <th>1</th>\n",
       "      <td>/uae/restaurants/6815/abu-dhabi-international-...</td>\n",
       "      <td>Abu Dhabi International Airport</td>\n",
       "    </tr>\n",
       "    <tr>\n",
       "      <th>2</th>\n",
       "      <td>/uae/restaurants/1169/abu-hail</td>\n",
       "      <td>Abu Hail</td>\n",
       "    </tr>\n",
       "    <tr>\n",
       "      <th>3</th>\n",
       "      <td>/uae/restaurants/1863/abu-samrah</td>\n",
       "      <td>Abu Samrah</td>\n",
       "    </tr>\n",
       "    <tr>\n",
       "      <th>4</th>\n",
       "      <td>/uae/restaurants/1589/abu-shagara</td>\n",
       "      <td>Abu Shagara</td>\n",
       "    </tr>\n",
       "    <tr>\n",
       "      <th>...</th>\n",
       "      <td>...</td>\n",
       "      <td>...</td>\n",
       "    </tr>\n",
       "    <tr>\n",
       "      <th>433</th>\n",
       "      <td>/uae/restaurants/1569/industrial-area-1</td>\n",
       "      <td>Industrial Area 1</td>\n",
       "    </tr>\n",
       "    <tr>\n",
       "      <th>434</th>\n",
       "      <td>/uae/restaurants/4000/industrial-area-10</td>\n",
       "      <td>Industrial Area 10</td>\n",
       "    </tr>\n",
       "    <tr>\n",
       "      <th>435</th>\n",
       "      <td>/uae/restaurants/4001/industrial-area-11</td>\n",
       "      <td>Industrial Area 11</td>\n",
       "    </tr>\n",
       "    <tr>\n",
       "      <th>436</th>\n",
       "      <td>/uae/restaurants/4002/industrial-area-12</td>\n",
       "      <td>Industrial Area 12</td>\n",
       "    </tr>\n",
       "    <tr>\n",
       "      <th>437</th>\n",
       "      <td>/uae/restaurants/4003/industrial-area-13</td>\n",
       "      <td>Industrial Area 13</td>\n",
       "    </tr>\n",
       "  </tbody>\n",
       "</table>\n",
       "<p>438 rows × 2 columns</p>\n",
       "</div>"
      ],
      "text/plain": [
       "                                                  link  \\\n",
       "0                /uae/restaurants/6485/abu-dhabi-hills   \n",
       "1    /uae/restaurants/6815/abu-dhabi-international-...   \n",
       "2                       /uae/restaurants/1169/abu-hail   \n",
       "3                     /uae/restaurants/1863/abu-samrah   \n",
       "4                    /uae/restaurants/1589/abu-shagara   \n",
       "..                                                 ...   \n",
       "433            /uae/restaurants/1569/industrial-area-1   \n",
       "434           /uae/restaurants/4000/industrial-area-10   \n",
       "435           /uae/restaurants/4001/industrial-area-11   \n",
       "436           /uae/restaurants/4002/industrial-area-12   \n",
       "437           /uae/restaurants/4003/industrial-area-13   \n",
       "\n",
       "                                name  \n",
       "0                    Abu Dhabi Hills  \n",
       "1    Abu Dhabi International Airport  \n",
       "2                           Abu Hail  \n",
       "3                         Abu Samrah  \n",
       "4                        Abu Shagara  \n",
       "..                               ...  \n",
       "433                Industrial Area 1  \n",
       "434               Industrial Area 10  \n",
       "435               Industrial Area 11  \n",
       "436               Industrial Area 12  \n",
       "437               Industrial Area 13  \n",
       "\n",
       "[438 rows x 2 columns]"
      ]
     },
     "execution_count": 12,
     "metadata": {},
     "output_type": "execute_result"
    }
   ],
   "source": [
    "c=c[9:-180]\n",
    "res = []\n",
    "for i in c:\n",
    "  i = i.find('a')\n",
    "  link = i['href']\n",
    "  name = i.getText().strip()\n",
    "  res.append([link, name])\n",
    "links = pd.DataFrame(res, columns = ['link', 'name'])\n",
    "links"
   ]
  },
  {
   "cell_type": "code",
   "execution_count": 15,
   "id": "11fb417c",
   "metadata": {},
   "outputs": [
    {
     "data": {
      "text/plain": [
       "array(['6783', 'ajman-industrial-area-2'], dtype=object)"
      ]
     },
     "execution_count": 15,
     "metadata": {},
     "output_type": "execute_result"
    }
   ],
   "source": [
    "links['area_id'] = links.link.apply(lambda x: x.split('/')[-2])\n",
    "links['area_slug'] = links.link.apply(lambda x: x.split('/')[-1])\n",
    "links.area_slug = links.area_slug.apply(lambda x: x.replace('%E2%80%8B',''))\n",
    "links_list = links.values\n",
    "len(links_list)\n",
    "links_list[10][-2:]\n"
   ]
  },
  {
   "cell_type": "code",
   "execution_count": 16,
   "id": "e72de740",
   "metadata": {},
   "outputs": [
    {
     "name": "stdout",
     "output_type": "stream",
     "text": [
      "6849 al-ain-zoo\n",
      "{'page': '1', 'countrySlug': 'uae', 'areaId': '6849', 'areaSlug': 'al-ain-zoo'}\n"
     ]
    }
   ],
   "source": [
    "areaId, areaSlug=  links_list[20][-2:]\n",
    "res = []\n",
    "print(areaId, areaSlug)\n",
    "params = {\n",
    "    'page': '1',\n",
    "    'countrySlug': 'uae',\n",
    "    # 'areaId': '1263',\n",
    "    # 'areaSlug': 'dubai-festival-city',\n",
    "    'areaId': areaId,\n",
    "    'areaSlug': areaSlug,\n",
    "}\n",
    "print(params)"
   ]
  },
  {
   "cell_type": "code",
   "execution_count": 23,
   "id": "20f9bbc6",
   "metadata": {},
   "outputs": [
    {
     "data": {
      "text/plain": [
       "<Response [500]>"
      ]
     },
     "execution_count": 23,
     "metadata": {},
     "output_type": "execute_result"
    }
   ],
   "source": [
    "response = requests.get('https://www.talabat.com/_next/data/4e715dcf-0bc5-4377-a472-caa6bbdf2483/listing.json', params=params)\n",
    "response\n"
   ]
  },
  {
   "cell_type": "code",
   "execution_count": null,
   "id": "afbe8a64",
   "metadata": {},
   "outputs": [],
   "source": [
    "response_json = response.json()"
   ]
  }
 ],
 "metadata": {
  "kernelspec": {
   "display_name": "Python 3 (ipykernel)",
   "language": "python",
   "name": "python3"
  },
  "language_info": {
   "codemirror_mode": {
    "name": "ipython",
    "version": 3
   },
   "file_extension": ".py",
   "mimetype": "text/x-python",
   "name": "python",
   "nbconvert_exporter": "python",
   "pygments_lexer": "ipython3",
   "version": "3.9.16"
  }
 },
 "nbformat": 4,
 "nbformat_minor": 5
}
